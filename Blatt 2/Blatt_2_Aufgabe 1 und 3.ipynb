{
 "cells": [
  {
   "cell_type": "markdown",
   "metadata": {},
   "source": [
    "# Aufgabe 3 "
   ]
  },
  {
   "cell_type": "code",
   "execution_count": 18,
   "metadata": {},
   "outputs": [
    {
     "name": "stdout",
     "output_type": "stream",
     "text": [
      "2.0 + 1.0 i , 4.0 + 3.0 i\n",
      "2.2 + 0.4 i\n",
      "5.0 + 10.0 i\n",
      "5.0exp(0.644)i\n"
     ]
    }
   ],
   "source": [
    "import math\n",
    "from pylab import plot,xlim,show\n",
    "\n",
    "\n",
    "class Komplex:\n",
    "\n",
    "    def __init__(self, re=0.0, im=0.0):\n",
    "        self._re = re\n",
    "        self._im = im\n",
    "\n",
    "\n",
    "def __initNew__(self, other, real=0.0, imag=0.0):\n",
    "    self._real = real\n",
    "    self._imag = imag\n",
    "    other._real = real\n",
    "    other._imag = -imag\n",
    "\n",
    "    # Gibt den Realteil von self zurück\n",
    "def re(self):\n",
    "    return self._re\n",
    "\n",
    "    # Gibt den Imginärteil von self zurück\n",
    "def im(self):\n",
    "    return self._im\n",
    "\n",
    "    # Gibt die konjugiert komplexe Zahl von self zurück\n",
    "def conjugate(self):\n",
    "    return Komplex(self._re, -self._im)\n",
    "    # Gibt ein neues Objekt Komplex zurück als Summe von self und other\n",
    "\n",
    "def __add__(self, other):\n",
    "    re = self._re + other._re\n",
    "    im = self._im + other._im\n",
    "    return Komplex(re, im)\n",
    "\n",
    "    # Gibt ein neues Objekt Komplex zurück als Produkt von self und other\n",
    "    # Hier Ihren code einfügen\n",
    "def __mul__(self, other):\n",
    "    re = (self._re * other._re) - (self._im * other._im)\n",
    "    im = (self._im * other._re) + (self._re * other._im)\n",
    "\n",
    "    return Komplex(re, im)\n",
    "\n",
    "    # Gibt ein neues Objekt Komplex zurück als Quotient von self und other\n",
    "    # Hier Ihren code einfügen\n",
    "def __div__(self, other):\n",
    "    zähler_real = float((self._re * other._re) - (self._im * (-other._im)))\n",
    "    zähler_imag = float((self._im * other._re) + (self._re * (-other._im)))\n",
    "\n",
    "    nenner = float((other._re * other._re) - (other._im * (-other._im)) + (other._im * other._re) + (other._re * (-other._im)))\n",
    "\n",
    "    re = zähler_real / nenner\n",
    "    im = zähler_imag / nenner\n",
    "    return Komplex(re, im)\n",
    "\n",
    "\n",
    "\n",
    "    # Gibt den Betrag der komplexen Zahl zurück\n",
    "def __abs__(self):\n",
    "    return math.sqrt(self._re * self._re + self._im * self._im)\n",
    "\n",
    "def __str__(self):\n",
    "    if self._im < 0:\n",
    "        return str(self._re) + '+' + '(' + str(self._im) + ' i' + ')'\n",
    "    else:\n",
    "        return str(self._re) + ' + ' + str(self._im) + ' i'\n",
    "\n",
    "def __EulerFormel__(self):\n",
    "    r = math.sqrt( (self._re) ** 2 + (self._im) ** 2 )\n",
    "    angle = math.atan( self._im / self._re )\n",
    "\n",
    "    return str (r.__round__(3)) + \"exp(\" + str(angle.__round__(3)) + ')' + 'i'\n",
    "\n",
    "\n",
    "\n",
    "############################   Test   ############################\n",
    "\n",
    "\n",
    "# z0 = Komplex(math.sqrt(2), math.sqrt(2))\n",
    "z0 = Komplex(4.0, 3.0)\n",
    "\n",
    "z = Komplex(2.0, 1.0)\n",
    "print(__str__(z) + ' , ' + __str__(z0))\n",
    "zd = __div__(z0, z)\n",
    "print(__str__(zd))\n",
    "zm = __mul__(z, z0)\n",
    "print(__str__(zm))\n",
    "\n",
    "print(__EulerFormel__(z0))\n",
    "\n",
    "\n"
   ]
  },
  {
   "cell_type": "markdown",
   "metadata": {},
   "source": [
    "# Aufgabe 1"
   ]
  },
  {
   "cell_type": "code",
   "execution_count": 19,
   "metadata": {},
   "outputs": [
    {
     "name": "stdout",
     "output_type": "stream",
     "text": [
      "1.118\n",
      "0.18\n",
      "1.1\n",
      "0.2\n"
     ]
    },
    {
     "data": {
      "text/plain": [
       "1.118**zoo*exp(zoo) + 1.00372496633107*exp(0.0002*I) + 1.00385366062971*exp(0.000214030915576694*I) + 1.00399156568909*exp(0.000229591836734694*I) + 1.00413970703988*exp(0.000246913580246914*I) + 1.00429926832472*exp(0.000266272189349112*I) + 1.00447162299102*exp(0.000288*I) + 1.00465837392538*exp(0.0003125*I) + 1.00486140345233*exp(0.000340264650283554*I) + 1.00508293700368*exp(0.000371900826446281*I) + 1.00532562502716*exp(0.000408163265306122*I) + 1.00559264953609*exp(0.00045*I) + 1.00588786440472*exp(0.000498614958448753*I) + 1.00621598257316*exp(0.000555555555555556*I) + 1.0065828295406*exp(0.000622837370242214*I) + 1.00699569224889*exp(0.000703125*I) + 1.0074638080363*exp(0.0008*I) + 1.00799906397483*exp(0.000918367346938775*I) + 1.00861702035757*exp(0.00106508875739645*I) + 1.00933844829838*exp(0.00125*I) + 1.01019171025594*exp(0.00148760330578512*I) + 1.01121657680101*exp(0.0018*I) + 1.01247060358566*exp(0.00222222222222222*I) + 1.01404032420781*exp(0.0028125*I) + 1.01606211297414*exp(0.0036734693877551*I) + 1.01876410321338*exp(0.005*I) + 1.02255896519715*exp(0.0072*I) + 1.02827777911949*exp(0.01125*I) + 1.03788029799617*exp(0.02*I) + 1.0573551910309*exp(0.045*I) + 1.118*exp(0.18*I)"
      ]
     },
     "execution_count": 19,
     "metadata": {},
     "output_type": "execute_result"
    }
   ],
   "source": [
    "import math\n",
    "import sympy\n",
    "from sympy import exp,I,expand,arg,conjugate\n",
    "\n",
    "# die Werte der Komplexen zahl in Normal Form\n",
    "normalForm = complex( 1.1, 0.2 )\n",
    "\n",
    "# Betrag\n",
    "r = (math.sqrt( normalForm.real ** 2 + normalForm.imag ** 2 )).__round__( 3 )\n",
    "\n",
    "# Argument\n",
    "angle = (math.atan( normalForm.imag / normalForm.real )).__round__( 3 )\n",
    "\n",
    "# PolarForm Real und immaginaerteil der Komplexen zahl\n",
    "polarReal = (r * math.cos( angle )).__round__( 3 )\n",
    "polarImag = (r * math.sin( angle ) ).__round__( 3 )\n",
    "polarexp = r*math.exp(angle)\n",
    "\n",
    "\n",
    "\n",
    "# Die Summe der Komplexen zahl in Polar Form hoch \"k\"(k in range von 0 bis 30)\n",
    "\n",
    "#for k in range(1, 30):\n",
    "   # sum += r ** (1/k) * math.exp( (I/k) * (angle/k))\n",
    "\n",
    "k = sympy.symbols(\"k\",integer=True)\n",
    "ergebnis = sympy.Sum(((r ** (1/k))) * (exp((I/k) * (angle/k))), (k, 0, 30))\n",
    "expand(ergebnis.doit())\n",
    "\n",
    "\n",
    "############################   Test   ############################\n",
    "print( r )\n",
    "print( angle )\n",
    "print( polarReal )\n",
    "print( polarImag )\n",
    "expand(ergebnis.doit())\n",
    "\n"
   ]
  },
  {
   "cell_type": "code",
   "execution_count": null,
   "metadata": {},
   "outputs": [],
   "source": []
  }
 ],
 "metadata": {
  "kernelspec": {
   "display_name": "Python 3",
   "language": "python",
   "name": "python3"
  },
  "language_info": {
   "codemirror_mode": {
    "name": "ipython",
    "version": 3
   },
   "file_extension": ".py",
   "mimetype": "text/x-python",
   "name": "python",
   "nbconvert_exporter": "python",
   "pygments_lexer": "ipython3",
   "version": "3.7.0"
  }
 },
 "nbformat": 4,
 "nbformat_minor": 2
}
