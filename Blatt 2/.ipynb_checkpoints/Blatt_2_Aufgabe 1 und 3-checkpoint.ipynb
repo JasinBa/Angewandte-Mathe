{
 "cells": [
  {
   "cell_type": "markdown",
   "metadata": {},
   "source": [
    "# Aufgabe 3 "
   ]
  },
  {
   "cell_type": "code",
   "execution_count": 1,
   "metadata": {},
   "outputs": [
    {
     "name": "stdout",
     "output_type": "stream",
     "text": [
      "2.0 + 1.0 i , 4.0 - 3.0 i\n",
      "1.0 - 2.0 i\n",
      "11.0 - 2.0 i\n",
      "5.0exp(-0.644)i\n"
     ]
    }
   ],
   "source": [
    "import math\n",
    "from pylab import plot,xlim,show\n",
    "\n",
    "\n",
    "class Komplex:\n",
    "\n",
    "    def __init__(self, re=0.0, im=0.0):\n",
    "        self._re = re\n",
    "        self._im = im\n",
    "\n",
    "\n",
    "def __initNew__(self, other, real=0.0, imag=0.0):\n",
    "    self._real = real\n",
    "    self._imag = imag\n",
    "    other._real = real\n",
    "    other._imag = -imag\n",
    "\n",
    "    # Gibt den Realteil von self zurück\n",
    "def re(self):\n",
    "    return self._re\n",
    "\n",
    "    # Gibt den Imginärteil von self zurück\n",
    "def im(self):\n",
    "    return self._im\n",
    "\n",
    "    # Gibt die konjugiert komplexe Zahl von self zurück\n",
    "def conjugate(self):\n",
    "    return Komplex(self._re, -self._im)\n",
    "    # Gibt ein neues Objekt Komplex zurück als Summe von self und other\n",
    "\n",
    "def __add__(self, other):\n",
    "    re = self._re + other._re\n",
    "    im = self._im + other._im\n",
    "    return Komplex(re, im)\n",
    "\n",
    "    # Gibt ein neues Objekt Komplex zurück als Produkt von self und other\n",
    "    # Hier Ihren code einfügen\n",
    "def __mul__(self, other):\n",
    "    re = (self._re * other._re) - (self._im * other._im)\n",
    "    im = (self._im * other._re) + (self._re * other._im)\n",
    "\n",
    "    return Komplex(re, im)\n",
    "\n",
    "    # Gibt ein neues Objekt Komplex zurück als Quotient von self und other\n",
    "    # Hier Ihren code einfügen\n",
    "def __div__(self, other):\n",
    "    zähler_real = float((self._re * other._re) - (self._im * (-other._im)))\n",
    "    zähler_imag = float((self._im * other._re) + (self._re * (-other._im)))\n",
    "\n",
    "    nenner = float((other._re * other._re) - (other._im * (-other._im)) + (other._im * other._re) + (other._re * (-other._im)))\n",
    "\n",
    "    re = zähler_real / nenner\n",
    "    im = zähler_imag / nenner\n",
    "    return Komplex(re, im)\n",
    "\n",
    "\n",
    "\n",
    "    # Gibt den Betrag der komplexen Zahl zurück\n",
    "def __abs__(self):\n",
    "    return math.sqrt(self._re * self._re + self._im * self._im)\n",
    "\n",
    "def __str__(self):\n",
    "    if self._im < 0:\n",
    "        return str(self._re)  +  \" - \"  + str(abs(self._im)) + ' i'\n",
    "    else:\n",
    "        return str(self._re) + ' + ' + str(self._im) + ' i'\n",
    "\n",
    "def __EulerFormel__(self):\n",
    "    r = math.sqrt( (self._re) ** 2 + (self._im) ** 2 )\n",
    "    angle = math.atan( self._im / self._re )\n",
    "\n",
    "    return str (r.__round__(3)) + \"exp(\" + str(angle.__round__(3)) + ')' + 'i'\n",
    "\n",
    "\n",
    "\n",
    "############################   Test   ############################\n",
    "\n",
    "\n",
    "# z0 = Komplex(math.sqrt(2), math.sqrt(2))\n",
    "z0 = Komplex(4.0, -3.0)\n",
    "\n",
    "z = Komplex(2.0, 1.0)\n",
    "print(__str__(z) + ' , ' + __str__(z0))\n",
    "zd = __div__(z0, z)\n",
    "print(__str__(zd))\n",
    "zm = __mul__(z, z0)\n",
    "print(__str__(zm))\n",
    "\n",
    "print(__EulerFormel__(z0))\n"
   ]
  },
  {
   "cell_type": "markdown",
   "metadata": {},
   "source": [
    "# Aufgabe 1"
   ]
  },
  {
   "cell_type": "code",
   "execution_count": 10,
   "metadata": {},
   "outputs": [
    {
     "name": "stdout",
     "output_type": "stream",
     "text": [
      "(-36.34236704617899+133.8964865372702j)\n",
      "(-36.34236704617899+133.89648653727016j)\n"
     ]
    }
   ],
   "source": [
    "import math\n",
    "import sympy\n",
    "from sympy import exp,I,expand,arg,conjugate\n",
    "import numpy as np\n",
    "\n",
    "\n",
    "# die Werte der Komplexen zahl in Normal Form\n",
    "normalForm = complex( 1.1, -0.2 )\n",
    "\n",
    "# Betrag\n",
    "r = (np.sqrt( normalForm.real ** 2 + normalForm.imag ** 2 ))\n",
    "\n",
    "# Argument\n",
    "angle = (np.arctan( normalForm.imag / normalForm.real ))\n",
    "\n",
    "# PolarForm Real und immaginaerteil der Komplexen zahl\n",
    "polarReal = (r * math.cos( angle ))\n",
    "polarImag = (r * math.sin( angle ) )\n",
    "polar = complex(polarReal, polarImag)\n",
    "\n",
    "\n",
    "\n",
    "\n",
    "# Die Summe der Komplexen zahl in Polar Form hoch \"k\"(k in range von 0 bis 30)\n",
    "\n",
    "summieren = 0\n",
    " \n",
    "for k in range(0, 31):\n",
    "    summieren += polar **k \n",
    "           \n",
    "print(summieren)\n",
    "\n",
    "\n",
    "# Summe Geometrischer Reihe:\n",
    "\n",
    "check = ((1 - complex(1.1, -0.2)**31) / (1 - complex(1.1,-0.2)))\n",
    "print(check)\n",
    "\n"
   ]
  },
  {
   "cell_type": "code",
   "execution_count": null,
   "metadata": {},
   "outputs": [],
   "source": []
  }
 ],
 "metadata": {
  "kernelspec": {
   "display_name": "Python 3",
   "language": "python",
   "name": "python3"
  },
  "language_info": {
   "codemirror_mode": {
    "name": "ipython",
    "version": 3
   },
   "file_extension": ".py",
   "mimetype": "text/x-python",
   "name": "python",
   "nbconvert_exporter": "python",
   "pygments_lexer": "ipython3",
   "version": "3.7.0"
  }
 },
 "nbformat": 4,
 "nbformat_minor": 2
}
