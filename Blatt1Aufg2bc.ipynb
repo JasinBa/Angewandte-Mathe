{
 "cells": [
  {
   "cell_type": "markdown",
   "metadata": {},
   "source": [
    "Blatt1:\n",
    "Aufgabe 2a)"
   ]
  },
  {
   "cell_type": "code",
   "execution_count": 53,
   "metadata": {},
   "outputs": [],
   "source": [
    "import numpy as np"
   ]
  },
  {
   "cell_type": "code",
   "execution_count": 27,
   "metadata": {},
   "outputs": [],
   "source": [
    "def bisection(f, a, b, N):\n",
    "    if f(a) * f(b) >= 0:\n",
    "        print(\"Bisection method fails.\")\n",
    "        return None\n",
    "    a_n = a\n",
    "    b_n = b\n",
    "    for n in range(1, N + 1):\n",
    "        m_n = (a_n + b_n) / 2\n",
    "        f_m_n = f(m_n)\n",
    "        if f(a_n) * f_m_n < 0:\n",
    "            a_n = a_n\n",
    "            b_n = m_n\n",
    "        elif f(b_n) * f_m_n < 0:\n",
    "            a_n = m_n\n",
    "            b_n = b_n\n",
    "        elif f_m_n == 0:\n",
    "            print(\"Found exact solution.\")\n",
    "            return m_n\n",
    "        else:\n",
    "            print(\"Bisection method fails.\")\n",
    "            return None\n",
    "    return (a_n + b_n) / 2"
   ]
  },
  {
   "cell_type": "code",
   "execution_count": 10,
   "metadata": {},
   "outputs": [],
   "source": [
    "def secant(f, a, b, N):\n",
    "    if f(a) * f(b) >= 0:\n",
    "        print(\"Secant method fails.\")\n",
    "        return None\n",
    "    a_n = a\n",
    "    b_n = b\n",
    "    for n in range(1, N + 1):\n",
    "        m_n = a_n - f(a_n) * (b_n - a_n) / (f(b_n) - f(a_n))\n",
    "        f_m_n = f(m_n)\n",
    "        if f(a_n) * f_m_n < 0:\n",
    "            a_n = a_n\n",
    "            b_n = m_n\n",
    "        elif f(b_n) * f_m_n < 0:\n",
    "            a_n = m_n\n",
    "            b_n = b_n\n",
    "        elif f_m_n == 0:\n",
    "            print(\"Found exact solution.\")\n",
    "            return m_n\n",
    "        else:\n",
    "            print(\"Secant method fails.\")\n",
    "            return None\n",
    "    return a_n - f(a_n) * (b_n - a_n) / (f(b_n) - f(a_n))\n"
   ]
  },
  {
   "cell_type": "code",
   "execution_count": 11,
   "metadata": {},
   "outputs": [],
   "source": [
    "def newton(f, Df, x0, epsilon, max_iter):\n",
    "\n",
    "    xn = x0\n",
    "    for n in range(0, max_iter):\n",
    "        fxn = f(xn)\n",
    "        if abs(fxn) < epsilon:\n",
    "            print('Found solution after', n, 'iterations.')\n",
    "            return xn\n",
    "        Dfxn = Df(xn)\n",
    "        if Dfxn == 0:\n",
    "            print('Zero derivative. No solution found.')\n",
    "            return None\n",
    "        xn = xn - fxn / Dfxn\n",
    "    print('Exceeded maximum iterations. No solution found.')\n",
    "    return None\n"
   ]
  },
  {
   "cell_type": "code",
   "execution_count": 33,
   "metadata": {},
   "outputs": [],
   "source": [
    "# i)\n",
    "def f(x):\n",
    "    return np.cos(x) - x\n",
    "\n",
    "# ii)\n",
    "def j(x):\n",
    "    return x - (2 * np.sin(x))\n",
    "\n",
    "def dj(x):\n",
    "    return 1 - 2 * np.cos(x)\n",
    "\n",
    "# iii)\n",
    "def q(x):\n",
    "    return (2 - np.exp(-x)) - x\n",
    "\n",
    "# iv)\n",
    "def p(x):\n",
    "    return (np.exp(1 - x ** 2)) - x\n"
   ]
  },
  {
   "cell_type": "code",
   "execution_count": 13,
   "metadata": {},
   "outputs": [
    {
     "name": "stdout",
     "output_type": "stream",
     "text": [
      "i) f(x) = cos(x) - x\n",
      "Found exact solution.\n",
      "0.7390851332151607\n"
     ]
    }
   ],
   "source": [
    "print(\"i) f(x) = cos(x) - x\")\n",
    "result1 = secant(f,-5,5,50)\n",
    "print(result1)"
   ]
  },
  {
   "cell_type": "code",
   "execution_count": 16,
   "metadata": {},
   "outputs": [
    {
     "name": "stdout",
     "output_type": "stream",
     "text": [
      "ii) j(x) = x - 2 * np.sin(x)\n",
      "('Found solution after', 3, 'iterations.')\n",
      "-1.8954942672087132\n",
      "('Found solution after', 3, 'iterations.')\n",
      "9.529120656610879e-22\n",
      "('Found solution after', 13, 'iterations.')\n",
      "1.895494267034033\n"
     ]
    }
   ],
   "source": [
    "print(\"ii) j(x) = x - 2 * np.sin(x)\")\n",
    "result2 = newton(j,dj,-2,1e-8,500)\n",
    "print(result2)\n",
    "result3 = newton(j,dj,-0.2,1e-8,500)\n",
    "print(result3)\n",
    "result4 = newton(j,dj,1,1e-8,500)\n",
    "print(result4)"
   ]
  },
  {
   "cell_type": "code",
   "execution_count": 54,
   "metadata": {},
   "outputs": [
    {
     "name": "stdout",
     "output_type": "stream",
     "text": [
      "iii) q(x) = (2 - np.exp(-x)) - x\n",
      "Found exact solution.\n",
      "-1.1461932206205825\n",
      "Found exact solution.\n",
      "1.8414056604369606\n"
     ]
    }
   ],
   "source": [
    "print(\"iii) q(x) = (2 - np.exp(-x)) - x\")\n",
    "result5 = secant(q,-2,1,500)\n",
    "print(result5)\n",
    "result6 = secant(q,-1,3,500)\n",
    "print(result6)"
   ]
  },
  {
   "cell_type": "code",
   "execution_count": 44,
   "metadata": {},
   "outputs": [
    {
     "name": "stdout",
     "output_type": "stream",
     "text": [
      "iv) p(x) = (np.exp(1 - x ** 2)) - x\n",
      "Found exact solution.\n",
      "1\n"
     ]
    }
   ],
   "source": [
    "print(\"iv) p(x) = (np.exp(1 - x ** 2)) - x\")\n",
    "result7 = bisection(p,-5,5,100)\n",
    "print(result7)"
   ]
  },
  {
   "cell_type": "markdown",
   "metadata": {},
   "source": [
    "Aufgabe 2b)"
   ]
  },
  {
   "cell_type": "code",
   "execution_count": 2,
   "metadata": {},
   "outputs": [],
   "source": [
    "%matplotlib inline\n",
    "import matplotlib.pyplot as plt\n",
    "import numpy as np"
   ]
  },
  {
   "cell_type": "code",
   "execution_count": 6,
   "metadata": {},
   "outputs": [
    {
     "data": {
      "text/plain": [
       "Text(0,0.5,'$T$')"
      ]
     },
     "execution_count": 6,
     "metadata": {},
     "output_type": "execute_result"
    },
    {
     "data": {
      "image/png": "[encoded data removed]",
      "text/plain": [
       "<Figure size 432x288 with 1 Axes>"
      ]
     },
     "metadata": {},
     "output_type": "display_data"
    }
   ],
   "source": [
    "def fixpt(f, x, epsilon=1.0E-6, N=500):\n",
    "    y = f(x)\n",
    "    n = 0\n",
    "    while abs(y - x) >= epsilon and n < N:\n",
    "        x = f(x)\n",
    "        n += 1\n",
    "        y = f(x)\n",
    "        if n >= N:\n",
    "            return \"No fixed point for given start value\"\n",
    "    return y\n",
    "        \n",
    "# define f\n",
    "def f(x):\n",
    "    return np.tanh(x/t)\n",
    "\n",
    "fig, ax = plt.subplots()\n",
    "\n",
    "# find fixed point\n",
    "t = 0.01 \n",
    "resu = []\n",
    "ts = []\n",
    "for i in range(0,99):\n",
    "    ts.append(t)\n",
    "    res = fixpt(f, 0.1)\n",
    "    t = t+0.01\n",
    "    resu.append(res)\n",
    "\n",
    "ax.plot(resu,ts)\n",
    "ax.set_xlabel(r\"$m$\", fontsize=18)\n",
    "ax.set_ylabel(r\"$T$\", fontsize=18)\n",
    "\n",
    "\n"
   ]
  },
  {
   "cell_type": "code",
   "execution_count": null,
   "metadata": {},
   "outputs": [],
   "source": []
  },
  {
   "cell_type": "code",
   "execution_count": null,
   "metadata": {},
   "outputs": [],
   "source": [
    "\n"
   ]
  }
 ],
 "metadata": {
  "kernelspec": {
   "display_name": "Python 2",
   "language": "python",
   "name": "python2"
  },
  "language_info": {
   "codemirror_mode": {
    "name": "ipython",
    "version": 2
   },
   "file_extension": ".py",
   "mimetype": "text/x-python",
   "name": "python",
   "nbconvert_exporter": "python",
   "pygments_lexer": "ipython2",
   "version": "2.7.15"
  }
 },
 "nbformat": 4,
 "nbformat_minor": 2
}
