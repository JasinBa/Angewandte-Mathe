{
 "cells": [
  {
   "cell_type": "code",
   "execution_count": null,
   "metadata": {},
   "outputs": [],
   "source": [
    "import numpy as np\n",
    "%matplotlib inline\n",
    "import matplotlib.pyplot as plt\n",
    "import numpy as np"
   ]
  },
  {
   "cell_type": "markdown",
   "metadata": {},
   "source": [
    "# Aufgabe 1a"
   ]
  },
  {
   "cell_type": "code",
   "execution_count": null,
   "metadata": {},
   "outputs": [],
   "source": [
    "\n",
    "fig, a = plt.subplots()\n",
    "\n",
    "x = np.linspace(0.001,10,100)\n",
    "\n",
    "\n",
    "f1 = np.sqrt(x)\n",
    "f2 = (np.log(x)) / (x+1)\n",
    "\n",
    "a.plot(x, f1, color= \"green\", label=\"$y_1(x)$\")\n",
    "a.plot(x, f2, color=\"blue\", label=\"$y_1(x)$\")\n",
    "\n",
    "a.set_xlabel(\"x-Axis\")\n",
    "a.set_ylabel(\"y-Axis\")\n",
    "a.legend()\n",
    "\n",
    "plt.show()"
   ]
  },
  {
   "cell_type": "markdown",
   "metadata": {},
   "source": [
    "# Aufgabe 1b\n"
   ]
  },
  {
   "cell_type": "code",
   "execution_count": null,
   "metadata": {},
   "outputs": [],
   "source": [
    "fig, ax = plt.subplots(1,2, figsize=(12,3))\n",
    "x = np.linspace(0, 10, 100)\n",
    "\n",
    "\n",
    "F1 = np.exp(x)\n",
    "\n",
    "ax[0].set_title('Linear')\n",
    "ax[1].set_title('SemiLog')\n",
    "\n",
    "ax[0].plot(x,F1,color = \"blue\", label = \"$y_1(x)$\")\n",
    "ax[1].semilogy(x, F1, color = \"green\", label=\"$y_1(x)$\")\n",
    "\n",
    "\n",
    "\n",
    "for axis in ax:\n",
    "    axis.set_xlabel('X-Axis')\n",
    "    axis.set_ylabel('Y-Axis')\n",
    "    axis.legend()\n",
    "\n",
    "plt.show()\n",
    "\n"
   ]
  },
  {
   "cell_type": "markdown",
   "metadata": {},
   "source": [
    "# Aufgabe 1c"
   ]
  },
  {
   "cell_type": "code",
   "execution_count": null,
   "metadata": {},
   "outputs": [],
   "source": [
    "fig, ax = plt.subplots(1,3, figsize=(12,3))\n",
    "\n",
    "x = np.linspace(0, 10, 100)\n",
    "n = np.linspace(-100, 100, 10)\n",
    "\n",
    "\n",
    "F1 = x**(1/2)   # np.sqrt(x)\n",
    "\n",
    "\n",
    "ax[0].plot(x,F1,color = \"blue\", label = \"$y_1(x)$\")\n",
    "ax[1].loglog(x,F1,color = \"green\", label = \"$y_1(x)$\")\n",
    "\n",
    "\n",
    "\n",
    "\n",
    "for number in n: \n",
    "    F2 = x**number\n",
    "    ax[2].loglog(x,F2,color = \"blue\", label = \"$y_1(x)$\")\n",
    "   \n",
    "\n",
    "    ax[0].set_title('Linear')\n",
    "    ax[1].set_title('LogLog')\n",
    "    ax[2].set_title('LogLog(f(x) = x**n)')\n",
    "\n",
    "\n",
    "for axis in ax:\n",
    "    axis.set_xlabel('X-Axis')\n",
    "    axis.set_ylabel('Y-Axis')\n",
    "    \n",
    "\n",
    "\n",
    "plt.show()\n",
    "\n"
   ]
  },
  {
   "cell_type": "markdown",
   "metadata": {},
   "source": [
    "# Aufgabe 1d"
   ]
  },
  {
   "cell_type": "code",
   "execution_count": null,
   "metadata": {},
   "outputs": [],
   "source": [
    "fig, ax = plt.subplots()\n",
    "\n",
    "a = 0.1\n",
    "e = 5\n",
    "\n",
    "b = a * (np.sqrt(e ** 2 - 1))\n",
    "\n",
    "t = np.linspace(-2, 2, 100)\n",
    "\n",
    "xPlus = np.cosh(t)\n",
    "xMinus = - xPlus\n",
    "\n",
    "y = b * np.sinh(t)\n",
    "\n",
    "\n",
    "ax.plot(xPlus,y, color=\"red\")\n",
    "ax.plot(xMinus,y, color=\"blue\")\n",
    "\n",
    "plt.show()"
   ]
  },
  {
   "cell_type": "markdown",
   "metadata": {},
   "source": [
    "# Aufgabe 1e"
   ]
  },
  {
   "cell_type": "code",
   "execution_count": null,
   "metadata": {},
   "outputs": [],
   "source": [
    "from scipy import linalg as la\n",
    "import pylab\n",
    "\n",
    "y = []\n",
    "x = []\n",
    "y_every_second = []\n",
    "x_every_second = range(-10, 11, 2)\n",
    "index = 0\n",
    "\n",
    "dataFile = open(\"UnbekannteDaten.txt\", 'r')\n",
    "dataFile.readline()\n",
    "for line in dataFile:\n",
    "    yPart, xPart = line.split()\n",
    "    y.append(float(yPart))\n",
    "    x.append(float(xPart))\n",
    "    if index % 2 == 0:\n",
    "        y_every_second.append(float(yPart))\n",
    "    index += 1\n",
    "dataFile.close()\n",
    "\n",
    "def rSquared(observed, predicted):\n",
    "    err = ((predicted - observed)**2).sum()\n",
    "    meanError = err/ len(observed)\n",
    "    return 1 - (meanError/np.var(observed))\n",
    "\n",
    "sol =  pylab.polyfit(x_every_second, y_every_second, 3)\n",
    "fit = pylab.polyval(sol, x)\n",
    "\n",
    "def get_Error_for_degree(degree):\n",
    "    sol =  pylab.polyfit(x_every_second, y_every_second, degree)\n",
    "    fit = pylab.polyval(sol, x)\n",
    "    return rSquared(y, fit)\n",
    "\n",
    "err_function = []\n",
    "x_err = []\n",
    "for i in range(1, 12):\n",
    "    err_function.append(get_Error_for_degree(i))\n",
    "    x_err.append(i - 1)\n",
    "    \n",
    "print(max(err_function))\n",
    "print(err_function.index(max(err_function)) + 1)\n",
    "    \n",
    "fig, ax = plt.subplots(1,2, figsize=(12, 3))\n",
    "ax[0].plot(x, y, 'go', alpha=0.5)\n",
    "ax[0].plot(x, fit, lw=2)\n",
    "\n",
    "\n",
    "ax[1].plot(x_err, err_function)\n",
    "\n",
    "\n",
    "plt.show()"
   ]
  },
  {
   "cell_type": "markdown",
   "metadata": {},
   "source": [
    "# Aufgabe 2a)"
   ]
  },
  {
   "cell_type": "code",
   "execution_count": null,
   "metadata": {},
   "outputs": [],
   "source": [
    "def bisection(f, a, b, N):\n",
    "    if f(a) * f(b) >= 0:\n",
    "        print(\"Bisection method fails.\")\n",
    "        return None\n",
    "    a_n = a\n",
    "    b_n = b\n",
    "    for n in range(1, N + 1):\n",
    "        m_n = (a_n + b_n) / 2\n",
    "        f_m_n = f(m_n)\n",
    "        if f(a_n) * f_m_n < 0:\n",
    "            a_n = a_n\n",
    "            b_n = m_n\n",
    "        elif f(b_n) * f_m_n < 0:\n",
    "            a_n = m_n\n",
    "            b_n = b_n\n",
    "        elif f_m_n == 0:\n",
    "            print(\"Found exact solution.\")\n",
    "            return m_n\n",
    "        else:\n",
    "            print(\"Bisection method fails.\")\n",
    "            return None\n",
    "    return (a_n + b_n) / 2"
   ]
  },
  {
   "cell_type": "code",
   "execution_count": 1,
   "metadata": {},
   "outputs": [],
   "source": [
    "def secant(f, a, b, N):\n",
    "    if f(a) * f(b) >= 0:\n",
    "        print(\"Secant method fails.\")\n",
    "        return None\n",
    "    a_n = a\n",
    "    b_n = b\n",
    "    for n in range(1, N + 1):\n",
    "        m_n = a_n - f(a_n) * (b_n - a_n) / (f(b_n) - f(a_n))\n",
    "        f_m_n = f(m_n)\n",
    "        if f(a_n) * f_m_n < 0:\n",
    "            a_n = a_n\n",
    "            b_n = m_n\n",
    "        elif f(b_n) * f_m_n < 0:\n",
    "            a_n = m_n\n",
    "            b_n = b_n\n",
    "        elif f_m_n == 0:\n",
    "            print(\"Found exact solution.\")\n",
    "            return m_n\n",
    "        else:\n",
    "            print(\"Secant method fails.\")\n",
    "            return None\n",
    "    return a_n - f(a_n) * (b_n - a_n) / (f(b_n) - f(a_n))\n"
   ]
  },
  {
   "cell_type": "code",
   "execution_count": null,
   "metadata": {},
   "outputs": [],
   "source": [
    "def newton(f, Df, x0, epsilon, max_iter):\n",
    "\n",
    "    xn = x0\n",
    "    for n in range(0, max_iter):\n",
    "        fxn = f(xn)\n",
    "        if abs(fxn) < epsilon:\n",
    "            print('Found solution after', n, 'iterations.')\n",
    "            return xn\n",
    "        Dfxn = Df(xn)\n",
    "        if Dfxn == 0:\n",
    "            print('Zero derivative. No solution found.')\n",
    "            return None\n",
    "        xn = xn - fxn / Dfxn\n",
    "    print('Exceeded maximum iterations. No solution found.')\n",
    "    return None\n"
   ]
  },
  {
   "cell_type": "code",
   "execution_count": null,
   "metadata": {},
   "outputs": [],
   "source": [
    "# i)\n",
    "def f(x):\n",
    "    return np.cos(x) - x\n",
    "\n",
    "# ii)\n",
    "def j(x):\n",
    "    return x - (2 * np.sin(x))\n",
    "\n",
    "def dj(x):\n",
    "    return 1 - 2 * np.cos(x)\n",
    "\n",
    "# iii)\n",
    "def q(x):\n",
    "    return (2 - np.exp(-x)) - x\n",
    "\n",
    "# iv)\n",
    "def p(x):\n",
    "    return (np.exp(1 - x ** 2)) - x\n"
   ]
  },
  {
   "cell_type": "code",
   "execution_count": null,
   "metadata": {},
   "outputs": [],
   "source": [
    "print(\"i) f(x) = cos(x) - x\")\n",
    "result1 = secant(f,-5,5,50)\n",
    "print(result1)"
   ]
  },
  {
   "cell_type": "code",
   "execution_count": null,
   "metadata": {},
   "outputs": [],
   "source": [
    "print(\"ii) j(x) = x - 2 * np.sin(x)\")\n",
    "result2 = newton(j,dj,-2,1e-8,500)\n",
    "print(result2)\n",
    "result3 = newton(j,dj,-0.2,1e-8,500)\n",
    "print(result3)\n",
    "result4 = newton(j,dj,1,1e-8,500)\n",
    "print(result4)"
   ]
  },
  {
   "cell_type": "code",
   "execution_count": null,
   "metadata": {},
   "outputs": [],
   "source": [
    "print(\"iii) q(x) = (2 - np.exp(-x)) - x\")\n",
    "result5 = secant(q,-2,1,500)\n",
    "print(result5)\n",
    "result6 = secant(q,-1,3,500)\n",
    "print(result6)"
   ]
  },
  {
   "cell_type": "code",
   "execution_count": null,
   "metadata": {},
   "outputs": [],
   "source": [
    "print(\"iv) p(x) = (np.exp(1 - x ** 2)) - x\")\n",
    "result7 = bisection(p,-5,5,100)\n",
    "print(result7)"
   ]
  },
  {
   "cell_type": "markdown",
   "metadata": {},
   "source": [
    "# Aufgabe 2b"
   ]
  },
  {
   "cell_type": "code",
   "execution_count": null,
   "metadata": {},
   "outputs": [],
   "source": [
    "def fixpt(f, x, epsilon=1.0E-6, N=500):\n",
    "    y = f(x)\n",
    "    n = 0\n",
    "    while abs(y - x) >= epsilon and n < N:\n",
    "        x = f(x)\n",
    "        n += 1\n",
    "        y = f(x)\n",
    "        if n >= N:\n",
    "            return \"No fixed point for given start value\"\n",
    "    return y\n",
    "        \n",
    "# define f\n",
    "def f(x):\n",
    "    return np.tanh(x/t)\n",
    "\n",
    "fig, ax = plt.subplots()\n",
    "\n",
    "# find fixed point\n",
    "t = 0.01 \n",
    "resu = []\n",
    "ts = []\n",
    "for i in range(0,99):\n",
    "    ts.append(t)\n",
    "    res = fixpt(f, 0.1)\n",
    "    t = t+0.01\n",
    "    resu.append(res)\n",
    "\n",
    "ax.plot(resu,ts)\n",
    "ax.set_xlabel(r\"$m$\", fontsize=18)\n",
    "ax.set_ylabel(r\"$T$\", fontsize=18)\n",
    "\n",
    "\n"
   ]
  },
  {
   "cell_type": "code",
   "execution_count": null,
   "metadata": {},
   "outputs": [],
   "source": []
  }
 ],
 "metadata": {
  "kernelspec": {
   "display_name": "Python 3",
   "language": "python",
   "name": "python3"
  },
  "language_info": {
   "codemirror_mode": {
    "name": "ipython",
    "version": 3
   },
   "file_extension": ".py",
   "mimetype": "text/x-python",
   "name": "python",
   "nbconvert_exporter": "python",
   "pygments_lexer": "ipython3",
   "version": "3.7.0"
  }
 },
 "nbformat": 4,
 "nbformat_minor": 2
}
